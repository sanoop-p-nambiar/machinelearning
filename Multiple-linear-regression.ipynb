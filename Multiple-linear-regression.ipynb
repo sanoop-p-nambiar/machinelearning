{
  "nbformat": 4,
  "nbformat_minor": 0,
  "metadata": {
    "colab": {
      "provenance": [],
      "authorship_tag": "ABX9TyNYitvrSWySzWd2sP7csFsP",
      "include_colab_link": true
    },
    "kernelspec": {
      "name": "python3",
      "display_name": "Python 3"
    },
    "language_info": {
      "name": "python"
    }
  },
  "cells": [
    {
      "cell_type": "markdown",
      "metadata": {
        "id": "view-in-github",
        "colab_type": "text"
      },
      "source": [
        "<a href=\"https://colab.research.google.com/github/sanoop-p-nambiar/machinelearning/blob/main/Multiple-linear-regression.ipynb\" target=\"_parent\"><img src=\"https://colab.research.google.com/assets/colab-badge.svg\" alt=\"Open In Colab\"/></a>"
      ]
    },
    {
      "cell_type": "code",
      "execution_count": null,
      "metadata": {
        "colab": {
          "base_uri": "https://localhost:8080/",
          "height": 73
        },
        "id": "GRdn7rsTThag",
        "outputId": "c0666d1c-958f-4578-ed9c-ab6d86409ce4"
      },
      "outputs": [
        {
          "output_type": "display_data",
          "data": {
            "text/plain": [
              "<IPython.core.display.HTML object>"
            ],
            "text/html": [
              "\n",
              "     <input type=\"file\" id=\"files-cb13831a-b1c7-44a3-a982-6f22004508b9\" name=\"files[]\" multiple disabled\n",
              "        style=\"border:none\" />\n",
              "     <output id=\"result-cb13831a-b1c7-44a3-a982-6f22004508b9\">\n",
              "      Upload widget is only available when the cell has been executed in the\n",
              "      current browser session. Please rerun this cell to enable.\n",
              "      </output>\n",
              "      <script>// Copyright 2017 Google LLC\n",
              "//\n",
              "// Licensed under the Apache License, Version 2.0 (the \"License\");\n",
              "// you may not use this file except in compliance with the License.\n",
              "// You may obtain a copy of the License at\n",
              "//\n",
              "//      http://www.apache.org/licenses/LICENSE-2.0\n",
              "//\n",
              "// Unless required by applicable law or agreed to in writing, software\n",
              "// distributed under the License is distributed on an \"AS IS\" BASIS,\n",
              "// WITHOUT WARRANTIES OR CONDITIONS OF ANY KIND, either express or implied.\n",
              "// See the License for the specific language governing permissions and\n",
              "// limitations under the License.\n",
              "\n",
              "/**\n",
              " * @fileoverview Helpers for google.colab Python module.\n",
              " */\n",
              "(function(scope) {\n",
              "function span(text, styleAttributes = {}) {\n",
              "  const element = document.createElement('span');\n",
              "  element.textContent = text;\n",
              "  for (const key of Object.keys(styleAttributes)) {\n",
              "    element.style[key] = styleAttributes[key];\n",
              "  }\n",
              "  return element;\n",
              "}\n",
              "\n",
              "// Max number of bytes which will be uploaded at a time.\n",
              "const MAX_PAYLOAD_SIZE = 100 * 1024;\n",
              "\n",
              "function _uploadFiles(inputId, outputId) {\n",
              "  const steps = uploadFilesStep(inputId, outputId);\n",
              "  const outputElement = document.getElementById(outputId);\n",
              "  // Cache steps on the outputElement to make it available for the next call\n",
              "  // to uploadFilesContinue from Python.\n",
              "  outputElement.steps = steps;\n",
              "\n",
              "  return _uploadFilesContinue(outputId);\n",
              "}\n",
              "\n",
              "// This is roughly an async generator (not supported in the browser yet),\n",
              "// where there are multiple asynchronous steps and the Python side is going\n",
              "// to poll for completion of each step.\n",
              "// This uses a Promise to block the python side on completion of each step,\n",
              "// then passes the result of the previous step as the input to the next step.\n",
              "function _uploadFilesContinue(outputId) {\n",
              "  const outputElement = document.getElementById(outputId);\n",
              "  const steps = outputElement.steps;\n",
              "\n",
              "  const next = steps.next(outputElement.lastPromiseValue);\n",
              "  return Promise.resolve(next.value.promise).then((value) => {\n",
              "    // Cache the last promise value to make it available to the next\n",
              "    // step of the generator.\n",
              "    outputElement.lastPromiseValue = value;\n",
              "    return next.value.response;\n",
              "  });\n",
              "}\n",
              "\n",
              "/**\n",
              " * Generator function which is called between each async step of the upload\n",
              " * process.\n",
              " * @param {string} inputId Element ID of the input file picker element.\n",
              " * @param {string} outputId Element ID of the output display.\n",
              " * @return {!Iterable<!Object>} Iterable of next steps.\n",
              " */\n",
              "function* uploadFilesStep(inputId, outputId) {\n",
              "  const inputElement = document.getElementById(inputId);\n",
              "  inputElement.disabled = false;\n",
              "\n",
              "  const outputElement = document.getElementById(outputId);\n",
              "  outputElement.innerHTML = '';\n",
              "\n",
              "  const pickedPromise = new Promise((resolve) => {\n",
              "    inputElement.addEventListener('change', (e) => {\n",
              "      resolve(e.target.files);\n",
              "    });\n",
              "  });\n",
              "\n",
              "  const cancel = document.createElement('button');\n",
              "  inputElement.parentElement.appendChild(cancel);\n",
              "  cancel.textContent = 'Cancel upload';\n",
              "  const cancelPromise = new Promise((resolve) => {\n",
              "    cancel.onclick = () => {\n",
              "      resolve(null);\n",
              "    };\n",
              "  });\n",
              "\n",
              "  // Wait for the user to pick the files.\n",
              "  const files = yield {\n",
              "    promise: Promise.race([pickedPromise, cancelPromise]),\n",
              "    response: {\n",
              "      action: 'starting',\n",
              "    }\n",
              "  };\n",
              "\n",
              "  cancel.remove();\n",
              "\n",
              "  // Disable the input element since further picks are not allowed.\n",
              "  inputElement.disabled = true;\n",
              "\n",
              "  if (!files) {\n",
              "    return {\n",
              "      response: {\n",
              "        action: 'complete',\n",
              "      }\n",
              "    };\n",
              "  }\n",
              "\n",
              "  for (const file of files) {\n",
              "    const li = document.createElement('li');\n",
              "    li.append(span(file.name, {fontWeight: 'bold'}));\n",
              "    li.append(span(\n",
              "        `(${file.type || 'n/a'}) - ${file.size} bytes, ` +\n",
              "        `last modified: ${\n",
              "            file.lastModifiedDate ? file.lastModifiedDate.toLocaleDateString() :\n",
              "                                    'n/a'} - `));\n",
              "    const percent = span('0% done');\n",
              "    li.appendChild(percent);\n",
              "\n",
              "    outputElement.appendChild(li);\n",
              "\n",
              "    const fileDataPromise = new Promise((resolve) => {\n",
              "      const reader = new FileReader();\n",
              "      reader.onload = (e) => {\n",
              "        resolve(e.target.result);\n",
              "      };\n",
              "      reader.readAsArrayBuffer(file);\n",
              "    });\n",
              "    // Wait for the data to be ready.\n",
              "    let fileData = yield {\n",
              "      promise: fileDataPromise,\n",
              "      response: {\n",
              "        action: 'continue',\n",
              "      }\n",
              "    };\n",
              "\n",
              "    // Use a chunked sending to avoid message size limits. See b/62115660.\n",
              "    let position = 0;\n",
              "    do {\n",
              "      const length = Math.min(fileData.byteLength - position, MAX_PAYLOAD_SIZE);\n",
              "      const chunk = new Uint8Array(fileData, position, length);\n",
              "      position += length;\n",
              "\n",
              "      const base64 = btoa(String.fromCharCode.apply(null, chunk));\n",
              "      yield {\n",
              "        response: {\n",
              "          action: 'append',\n",
              "          file: file.name,\n",
              "          data: base64,\n",
              "        },\n",
              "      };\n",
              "\n",
              "      let percentDone = fileData.byteLength === 0 ?\n",
              "          100 :\n",
              "          Math.round((position / fileData.byteLength) * 100);\n",
              "      percent.textContent = `${percentDone}% done`;\n",
              "\n",
              "    } while (position < fileData.byteLength);\n",
              "  }\n",
              "\n",
              "  // All done.\n",
              "  yield {\n",
              "    response: {\n",
              "      action: 'complete',\n",
              "    }\n",
              "  };\n",
              "}\n",
              "\n",
              "scope.google = scope.google || {};\n",
              "scope.google.colab = scope.google.colab || {};\n",
              "scope.google.colab._files = {\n",
              "  _uploadFiles,\n",
              "  _uploadFilesContinue,\n",
              "};\n",
              "})(self);\n",
              "</script> "
            ]
          },
          "metadata": {}
        },
        {
          "output_type": "stream",
          "name": "stdout",
          "text": [
            "Saving IPL IMB381IPL2013 (1).csv to IPL IMB381IPL2013 (1).csv\n"
          ]
        }
      ],
      "source": [
        "from google.colab import files\n",
        "uploaded=files.upload()\n"
      ]
    },
    {
      "cell_type": "code",
      "source": [
        "import pandas as pd\n",
        "ipl_df=pd.read_csv(\"/content/IPL IMB381IPL2013 (1).csv\")\n",
        "print(ipl_df.info())\n",
        "print(ipl_df.shape)\n",
        "print(ipl_df.head())"
      ],
      "metadata": {
        "colab": {
          "base_uri": "https://localhost:8080/"
        },
        "id": "00zqf7T_UGqf",
        "outputId": "8bf95463-77e3-4eb5-851d-98292b4c556c"
      },
      "execution_count": null,
      "outputs": [
        {
          "output_type": "stream",
          "name": "stdout",
          "text": [
            "<class 'pandas.core.frame.DataFrame'>\n",
            "RangeIndex: 130 entries, 0 to 129\n",
            "Data columns (total 26 columns):\n",
            " #   Column         Non-Null Count  Dtype  \n",
            "---  ------         --------------  -----  \n",
            " 0   Sl.NO.         130 non-null    int64  \n",
            " 1   PLAYER NAME    130 non-null    object \n",
            " 2   AGE            130 non-null    int64  \n",
            " 3   COUNTRY        130 non-null    object \n",
            " 4   TEAM           130 non-null    object \n",
            " 5   PLAYING ROLE   130 non-null    object \n",
            " 6   T-RUNS         130 non-null    int64  \n",
            " 7   T-WKTS         130 non-null    int64  \n",
            " 8   ODI-RUNS-S     130 non-null    int64  \n",
            " 9   ODI-SR-B       130 non-null    float64\n",
            " 10  ODI-WKTS       130 non-null    int64  \n",
            " 11  ODI-SR-BL      130 non-null    float64\n",
            " 12  CAPTAINCY EXP  130 non-null    int64  \n",
            " 13  RUNS-S         130 non-null    int64  \n",
            " 14  HS             130 non-null    int64  \n",
            " 15  AVE            130 non-null    float64\n",
            " 16  SR-B           130 non-null    float64\n",
            " 17  SIXERS         130 non-null    int64  \n",
            " 18  RUNS-C         130 non-null    int64  \n",
            " 19  WKTS           130 non-null    int64  \n",
            " 20  AVE-BL         130 non-null    float64\n",
            " 21  ECON           130 non-null    float64\n",
            " 22  SR-BL          130 non-null    float64\n",
            " 23  AUCTION YEAR   130 non-null    int64  \n",
            " 24  BASE PRICE     130 non-null    int64  \n",
            " 25  SOLD PRICE     130 non-null    int64  \n",
            "dtypes: float64(7), int64(15), object(4)\n",
            "memory usage: 26.5+ KB\n",
            "None\n",
            "(130, 26)\n",
            "   Sl.NO.   PLAYER NAME  AGE COUNTRY  TEAM PLAYING ROLE  T-RUNS  T-WKTS  \\\n",
            "0       1   Abdulla, YA    2      SA  KXIP   Allrounder       0       0   \n",
            "1       2  Abdur Razzak    2     BAN   RCB       Bowler     214      18   \n",
            "2       3   Agarkar, AB    2     IND   KKR       Bowler     571      58   \n",
            "3       4     Ashwin, R    1     IND   CSK       Bowler     284      31   \n",
            "4       5  Badrinath, S    2     IND   CSK      Batsman      63       0   \n",
            "\n",
            "   ODI-RUNS-S  ODI-SR-B  ...    SR-B  SIXERS  RUNS-C  WKTS  AVE-BL   ECON  \\\n",
            "0           0      0.00  ...    0.00       0     307    15   20.47   8.90   \n",
            "1         657     71.41  ...    0.00       0      29     0    0.00  14.50   \n",
            "2        1269     80.62  ...  121.01       5    1059    29   36.52   8.81   \n",
            "3         241     84.56  ...   76.32       0    1125    49   22.96   6.23   \n",
            "4          79     45.93  ...  120.71      28       0     0    0.00   0.00   \n",
            "\n",
            "   SR-BL  AUCTION YEAR  BASE PRICE  SOLD PRICE  \n",
            "0  13.93          2009       50000       50000  \n",
            "1   0.00          2008       50000       50000  \n",
            "2  24.90          2008      200000      350000  \n",
            "3  22.14          2011      100000      850000  \n",
            "4   0.00          2011      100000      800000  \n",
            "\n",
            "[5 rows x 26 columns]\n"
          ]
        }
      ]
    },
    {
      "cell_type": "markdown",
      "source": [
        "display the initial 10 columns for first 5 records"
      ],
      "metadata": {
        "id": "9mTkyKRVXISZ"
      }
    },
    {
      "cell_type": "code",
      "source": [
        "ipl_df.iloc[0:5,:]"
      ],
      "metadata": {
        "colab": {
          "base_uri": "https://localhost:8080/",
          "height": 236
        },
        "id": "TIiBjSgpXdfR",
        "outputId": "41e35ea1-632b-4464-dac0-9d68ea35a156"
      },
      "execution_count": null,
      "outputs": [
        {
          "output_type": "execute_result",
          "data": {
            "text/plain": [
              "   Sl.NO.   PLAYER NAME  AGE COUNTRY  TEAM PLAYING ROLE  T-RUNS  T-WKTS  \\\n",
              "0       1   Abdulla, YA    2      SA  KXIP   Allrounder       0       0   \n",
              "1       2  Abdur Razzak    2     BAN   RCB       Bowler     214      18   \n",
              "2       3   Agarkar, AB    2     IND   KKR       Bowler     571      58   \n",
              "3       4     Ashwin, R    1     IND   CSK       Bowler     284      31   \n",
              "4       5  Badrinath, S    2     IND   CSK      Batsman      63       0   \n",
              "\n",
              "   ODI-RUNS-S  ODI-SR-B  ...    SR-B  SIXERS  RUNS-C  WKTS  AVE-BL   ECON  \\\n",
              "0           0      0.00  ...    0.00       0     307    15   20.47   8.90   \n",
              "1         657     71.41  ...    0.00       0      29     0    0.00  14.50   \n",
              "2        1269     80.62  ...  121.01       5    1059    29   36.52   8.81   \n",
              "3         241     84.56  ...   76.32       0    1125    49   22.96   6.23   \n",
              "4          79     45.93  ...  120.71      28       0     0    0.00   0.00   \n",
              "\n",
              "   SR-BL  AUCTION YEAR  BASE PRICE  SOLD PRICE  \n",
              "0  13.93          2009       50000       50000  \n",
              "1   0.00          2008       50000       50000  \n",
              "2  24.90          2008      200000      350000  \n",
              "3  22.14          2011      100000      850000  \n",
              "4   0.00          2011      100000      800000  \n",
              "\n",
              "[5 rows x 26 columns]"
            ],
            "text/html": [
              "\n",
              "  <div id=\"df-f8f462e8-b6a1-4d2a-8410-764757bf684f\">\n",
              "    <div class=\"colab-df-container\">\n",
              "      <div>\n",
              "<style scoped>\n",
              "    .dataframe tbody tr th:only-of-type {\n",
              "        vertical-align: middle;\n",
              "    }\n",
              "\n",
              "    .dataframe tbody tr th {\n",
              "        vertical-align: top;\n",
              "    }\n",
              "\n",
              "    .dataframe thead th {\n",
              "        text-align: right;\n",
              "    }\n",
              "</style>\n",
              "<table border=\"1\" class=\"dataframe\">\n",
              "  <thead>\n",
              "    <tr style=\"text-align: right;\">\n",
              "      <th></th>\n",
              "      <th>Sl.NO.</th>\n",
              "      <th>PLAYER NAME</th>\n",
              "      <th>AGE</th>\n",
              "      <th>COUNTRY</th>\n",
              "      <th>TEAM</th>\n",
              "      <th>PLAYING ROLE</th>\n",
              "      <th>T-RUNS</th>\n",
              "      <th>T-WKTS</th>\n",
              "      <th>ODI-RUNS-S</th>\n",
              "      <th>ODI-SR-B</th>\n",
              "      <th>...</th>\n",
              "      <th>SR-B</th>\n",
              "      <th>SIXERS</th>\n",
              "      <th>RUNS-C</th>\n",
              "      <th>WKTS</th>\n",
              "      <th>AVE-BL</th>\n",
              "      <th>ECON</th>\n",
              "      <th>SR-BL</th>\n",
              "      <th>AUCTION YEAR</th>\n",
              "      <th>BASE PRICE</th>\n",
              "      <th>SOLD PRICE</th>\n",
              "    </tr>\n",
              "  </thead>\n",
              "  <tbody>\n",
              "    <tr>\n",
              "      <th>0</th>\n",
              "      <td>1</td>\n",
              "      <td>Abdulla, YA</td>\n",
              "      <td>2</td>\n",
              "      <td>SA</td>\n",
              "      <td>KXIP</td>\n",
              "      <td>Allrounder</td>\n",
              "      <td>0</td>\n",
              "      <td>0</td>\n",
              "      <td>0</td>\n",
              "      <td>0.00</td>\n",
              "      <td>...</td>\n",
              "      <td>0.00</td>\n",
              "      <td>0</td>\n",
              "      <td>307</td>\n",
              "      <td>15</td>\n",
              "      <td>20.47</td>\n",
              "      <td>8.90</td>\n",
              "      <td>13.93</td>\n",
              "      <td>2009</td>\n",
              "      <td>50000</td>\n",
              "      <td>50000</td>\n",
              "    </tr>\n",
              "    <tr>\n",
              "      <th>1</th>\n",
              "      <td>2</td>\n",
              "      <td>Abdur Razzak</td>\n",
              "      <td>2</td>\n",
              "      <td>BAN</td>\n",
              "      <td>RCB</td>\n",
              "      <td>Bowler</td>\n",
              "      <td>214</td>\n",
              "      <td>18</td>\n",
              "      <td>657</td>\n",
              "      <td>71.41</td>\n",
              "      <td>...</td>\n",
              "      <td>0.00</td>\n",
              "      <td>0</td>\n",
              "      <td>29</td>\n",
              "      <td>0</td>\n",
              "      <td>0.00</td>\n",
              "      <td>14.50</td>\n",
              "      <td>0.00</td>\n",
              "      <td>2008</td>\n",
              "      <td>50000</td>\n",
              "      <td>50000</td>\n",
              "    </tr>\n",
              "    <tr>\n",
              "      <th>2</th>\n",
              "      <td>3</td>\n",
              "      <td>Agarkar, AB</td>\n",
              "      <td>2</td>\n",
              "      <td>IND</td>\n",
              "      <td>KKR</td>\n",
              "      <td>Bowler</td>\n",
              "      <td>571</td>\n",
              "      <td>58</td>\n",
              "      <td>1269</td>\n",
              "      <td>80.62</td>\n",
              "      <td>...</td>\n",
              "      <td>121.01</td>\n",
              "      <td>5</td>\n",
              "      <td>1059</td>\n",
              "      <td>29</td>\n",
              "      <td>36.52</td>\n",
              "      <td>8.81</td>\n",
              "      <td>24.90</td>\n",
              "      <td>2008</td>\n",
              "      <td>200000</td>\n",
              "      <td>350000</td>\n",
              "    </tr>\n",
              "    <tr>\n",
              "      <th>3</th>\n",
              "      <td>4</td>\n",
              "      <td>Ashwin, R</td>\n",
              "      <td>1</td>\n",
              "      <td>IND</td>\n",
              "      <td>CSK</td>\n",
              "      <td>Bowler</td>\n",
              "      <td>284</td>\n",
              "      <td>31</td>\n",
              "      <td>241</td>\n",
              "      <td>84.56</td>\n",
              "      <td>...</td>\n",
              "      <td>76.32</td>\n",
              "      <td>0</td>\n",
              "      <td>1125</td>\n",
              "      <td>49</td>\n",
              "      <td>22.96</td>\n",
              "      <td>6.23</td>\n",
              "      <td>22.14</td>\n",
              "      <td>2011</td>\n",
              "      <td>100000</td>\n",
              "      <td>850000</td>\n",
              "    </tr>\n",
              "    <tr>\n",
              "      <th>4</th>\n",
              "      <td>5</td>\n",
              "      <td>Badrinath, S</td>\n",
              "      <td>2</td>\n",
              "      <td>IND</td>\n",
              "      <td>CSK</td>\n",
              "      <td>Batsman</td>\n",
              "      <td>63</td>\n",
              "      <td>0</td>\n",
              "      <td>79</td>\n",
              "      <td>45.93</td>\n",
              "      <td>...</td>\n",
              "      <td>120.71</td>\n",
              "      <td>28</td>\n",
              "      <td>0</td>\n",
              "      <td>0</td>\n",
              "      <td>0.00</td>\n",
              "      <td>0.00</td>\n",
              "      <td>0.00</td>\n",
              "      <td>2011</td>\n",
              "      <td>100000</td>\n",
              "      <td>800000</td>\n",
              "    </tr>\n",
              "  </tbody>\n",
              "</table>\n",
              "<p>5 rows × 26 columns</p>\n",
              "</div>\n",
              "      <button class=\"colab-df-convert\" onclick=\"convertToInteractive('df-f8f462e8-b6a1-4d2a-8410-764757bf684f')\"\n",
              "              title=\"Convert this dataframe to an interactive table.\"\n",
              "              style=\"display:none;\">\n",
              "        \n",
              "  <svg xmlns=\"http://www.w3.org/2000/svg\" height=\"24px\"viewBox=\"0 0 24 24\"\n",
              "       width=\"24px\">\n",
              "    <path d=\"M0 0h24v24H0V0z\" fill=\"none\"/>\n",
              "    <path d=\"M18.56 5.44l.94 2.06.94-2.06 2.06-.94-2.06-.94-.94-2.06-.94 2.06-2.06.94zm-11 1L8.5 8.5l.94-2.06 2.06-.94-2.06-.94L8.5 2.5l-.94 2.06-2.06.94zm10 10l.94 2.06.94-2.06 2.06-.94-2.06-.94-.94-2.06-.94 2.06-2.06.94z\"/><path d=\"M17.41 7.96l-1.37-1.37c-.4-.4-.92-.59-1.43-.59-.52 0-1.04.2-1.43.59L10.3 9.45l-7.72 7.72c-.78.78-.78 2.05 0 2.83L4 21.41c.39.39.9.59 1.41.59.51 0 1.02-.2 1.41-.59l7.78-7.78 2.81-2.81c.8-.78.8-2.07 0-2.86zM5.41 20L4 18.59l7.72-7.72 1.47 1.35L5.41 20z\"/>\n",
              "  </svg>\n",
              "      </button>\n",
              "      \n",
              "  <style>\n",
              "    .colab-df-container {\n",
              "      display:flex;\n",
              "      flex-wrap:wrap;\n",
              "      gap: 12px;\n",
              "    }\n",
              "\n",
              "    .colab-df-convert {\n",
              "      background-color: #E8F0FE;\n",
              "      border: none;\n",
              "      border-radius: 50%;\n",
              "      cursor: pointer;\n",
              "      display: none;\n",
              "      fill: #1967D2;\n",
              "      height: 32px;\n",
              "      padding: 0 0 0 0;\n",
              "      width: 32px;\n",
              "    }\n",
              "\n",
              "    .colab-df-convert:hover {\n",
              "      background-color: #E2EBFA;\n",
              "      box-shadow: 0px 1px 2px rgba(60, 64, 67, 0.3), 0px 1px 3px 1px rgba(60, 64, 67, 0.15);\n",
              "      fill: #174EA6;\n",
              "    }\n",
              "\n",
              "    [theme=dark] .colab-df-convert {\n",
              "      background-color: #3B4455;\n",
              "      fill: #D2E3FC;\n",
              "    }\n",
              "\n",
              "    [theme=dark] .colab-df-convert:hover {\n",
              "      background-color: #434B5C;\n",
              "      box-shadow: 0px 1px 3px 1px rgba(0, 0, 0, 0.15);\n",
              "      filter: drop-shadow(0px 1px 2px rgba(0, 0, 0, 0.3));\n",
              "      fill: #FFFFFF;\n",
              "    }\n",
              "  </style>\n",
              "\n",
              "      <script>\n",
              "        const buttonEl =\n",
              "          document.querySelector('#df-f8f462e8-b6a1-4d2a-8410-764757bf684f button.colab-df-convert');\n",
              "        buttonEl.style.display =\n",
              "          google.colab.kernel.accessAllowed ? 'block' : 'none';\n",
              "\n",
              "        async function convertToInteractive(key) {\n",
              "          const element = document.querySelector('#df-f8f462e8-b6a1-4d2a-8410-764757bf684f');\n",
              "          const dataTable =\n",
              "            await google.colab.kernel.invokeFunction('convertToInteractive',\n",
              "                                                     [key], {});\n",
              "          if (!dataTable) return;\n",
              "\n",
              "          const docLinkHtml = 'Like what you see? Visit the ' +\n",
              "            '<a target=\"_blank\" href=https://colab.research.google.com/notebooks/data_table.ipynb>data table notebook</a>'\n",
              "            + ' to learn more about interactive tables.';\n",
              "          element.innerHTML = '';\n",
              "          dataTable['output_type'] = 'display_data';\n",
              "          await google.colab.output.renderOutput(dataTable, element);\n",
              "          const docLink = document.createElement('div');\n",
              "          docLink.innerHTML = docLinkHtml;\n",
              "          element.appendChild(docLink);\n",
              "        }\n",
              "      </script>\n",
              "    </div>\n",
              "  </div>\n",
              "  "
            ]
          },
          "metadata": {},
          "execution_count": 8
        }
      ]
    },
    {
      "cell_type": "markdown",
      "source": [
        "use the revelent features to predict the players sold price"
      ],
      "metadata": {
        "id": "MUONXM45YedP"
      }
    },
    {
      "cell_type": "code",
      "source": [
        "X_features=['AGE','COUNTRY','PLAYING ROLE','T-RUNS','T-WKTS','ODI-RUNS-S','ODI-SR-BL','SR-B','SIXERS','RUNS-C','WKTS','AVE-BL','ECON','SR-B','CAPTAINCY EXP']"
      ],
      "metadata": {
        "id": "ubQv1l0nYtfx"
      },
      "execution_count": null,
      "outputs": []
    },
    {
      "cell_type": "markdown",
      "source": [
        "enode using dummy encoding or one-hot encoding(categorial data)\n"
      ],
      "metadata": {
        "id": "eIPMnZINbnlY"
      }
    },
    {
      "cell_type": "code",
      "source": [
        "\n",
        "categorical_features=['AGE','COUNTRY','PLAYING ROLE','CAPTAINCY EXP']\n",
        "ipl_encoded_df=pd.get_dummies(ipl_df[X_features],columns=categorical_features,drop_first=True)\n",
        "X_features=ipl_encoded_df.columns\n",
        "print(X_features)\n",
        "print(ipl_encoded_df.head(5))\n"
      ],
      "metadata": {
        "colab": {
          "base_uri": "https://localhost:8080/"
        },
        "id": "EfReGQJEb8bo",
        "outputId": "00c229d8-2d1e-424c-f92c-70b9d3f96152"
      },
      "execution_count": null,
      "outputs": [
        {
          "output_type": "stream",
          "name": "stdout",
          "text": [
            "Index(['T-RUNS', 'T-WKTS', 'ODI-RUNS-S', 'ODI-SR-BL', 'SR-B', 'SIXERS',\n",
            "       'RUNS-C', 'WKTS', 'AVE-BL', 'ECON', 'SR-B', 'AGE_2', 'AGE_3',\n",
            "       'COUNTRY_BAN', 'COUNTRY_ENG', 'COUNTRY_IND', 'COUNTRY_NZ',\n",
            "       'COUNTRY_PAK', 'COUNTRY_SA', 'COUNTRY_SL', 'COUNTRY_WI', 'COUNTRY_ZIM',\n",
            "       'PLAYING ROLE_Batsman', 'PLAYING ROLE_Bowler', 'PLAYING ROLE_W. Keeper',\n",
            "       'CAPTAINCY EXP_1'],\n",
            "      dtype='object')\n",
            "   T-RUNS  T-WKTS  ODI-RUNS-S  ODI-SR-BL    SR-B  SIXERS  RUNS-C  WKTS  \\\n",
            "0       0       0           0        0.0    0.00       0     307    15   \n",
            "1     214      18         657       37.6    0.00       0      29     0   \n",
            "2     571      58        1269       32.9  121.01       5    1059    29   \n",
            "3     284      31         241       36.8   76.32       0    1125    49   \n",
            "4      63       0          79        0.0  120.71      28       0     0   \n",
            "\n",
            "   AVE-BL   ECON  ...  COUNTRY_NZ  COUNTRY_PAK  COUNTRY_SA  COUNTRY_SL  \\\n",
            "0   20.47   8.90  ...           0            0           1           0   \n",
            "1    0.00  14.50  ...           0            0           0           0   \n",
            "2   36.52   8.81  ...           0            0           0           0   \n",
            "3   22.96   6.23  ...           0            0           0           0   \n",
            "4    0.00   0.00  ...           0            0           0           0   \n",
            "\n",
            "   COUNTRY_WI  COUNTRY_ZIM  PLAYING ROLE_Batsman  PLAYING ROLE_Bowler  \\\n",
            "0           0            0                     0                    0   \n",
            "1           0            0                     0                    1   \n",
            "2           0            0                     0                    1   \n",
            "3           0            0                     0                    1   \n",
            "4           0            0                     1                    0   \n",
            "\n",
            "   PLAYING ROLE_W. Keeper  CAPTAINCY EXP_1  \n",
            "0                       0                0  \n",
            "1                       0                0  \n",
            "2                       0                0  \n",
            "3                       0                0  \n",
            "4                       0                0  \n",
            "\n",
            "[5 rows x 26 columns]\n"
          ]
        }
      ]
    },
    {
      "cell_type": "markdown",
      "source": [
        "5.add the costant coloumn to estimate beta 0 using "
      ],
      "metadata": {
        "id": "6qnp77h9jpJJ"
      }
    },
    {
      "cell_type": "code",
      "source": [
        "import statsmodels.api as sm\n",
        "from sklearn.model_selection import train_test_split\n",
        "X=sm.add_constant(ipl_encoded_df)\n",
        "Y=ipl_df['SOLD PRICE']\n",
        "\n",
        "train_X, test_X, train_Y, test_Y = train_test_split(X,Y,train_size=0.8,random_state=100) "
      ],
      "metadata": {
        "id": "ngtxvUgqj51G",
        "colab": {
          "base_uri": "https://localhost:8080/"
        },
        "outputId": "671c0c09-b257-446e-bdd0-3d718e3a85a5"
      },
      "execution_count": null,
      "outputs": [
        {
          "output_type": "stream",
          "name": "stderr",
          "text": [
            "/usr/local/lib/python3.7/dist-packages/statsmodels/tsa/tsatools.py:142: FutureWarning: In a future version of pandas all arguments of concat except for the argument 'objs' will be keyword-only\n",
            "  x = pd.concat(x[::order], 1)\n"
          ]
        }
      ]
    },
    {
      "cell_type": "markdown",
      "source": [
        "6.build the model on training set                ##ols model"
      ],
      "metadata": {
        "id": "BaE_vFnCX2xj"
      }
    },
    {
      "cell_type": "code",
      "source": [
        "model1=sm.OLS(train_Y,train_X).fit()      ##fit is a built in fun,OLS is included for OLS model\n",
        "model1.summary2()                         ##training dataset=r-squared"
      ],
      "metadata": {
        "colab": {
          "base_uri": "https://localhost:8080/",
          "height": 856
        },
        "id": "5lEC3omLb2ek",
        "outputId": "ea7141e6-2767-4b34-f471-a045d2d3261f"
      },
      "execution_count": null,
      "outputs": [
        {
          "output_type": "execute_result",
          "data": {
            "text/plain": [
              "<class 'statsmodels.iolib.summary2.Summary'>\n",
              "\"\"\"\n",
              "                             Results: Ordinary least squares\n",
              "=========================================================================================\n",
              "Model:                      OLS                     Adj. R-squared:            0.361     \n",
              "Dependent Variable:         SOLD PRICE              AIC:                       2960.7942 \n",
              "Date:                       2022-11-02 03:43        BIC:                       3029.5483 \n",
              "No. Observations:           104                     Log-Likelihood:            -1454.4   \n",
              "Df Model:                   25                      F-statistic:               3.325     \n",
              "Df Residuals:               78                      Prob (F-statistic):        2.67e-05  \n",
              "R-squared:                  0.516                   Scale:                     1.0948e+11\n",
              "-----------------------------------------------------------------------------------------\n",
              "                          Coef.       Std.Err.     t    P>|t|      [0.025       0.975]   \n",
              "-----------------------------------------------------------------------------------------\n",
              "const                   339026.7476 206996.4590  1.6378 0.1055   -73071.5461  751125.0412\n",
              "T-RUNS                     -63.1561     28.1651 -2.2424 0.0278     -119.2285      -7.0838\n",
              "T-WKTS                     444.0119    307.6991  1.4430 0.1530     -168.5700    1056.5938\n",
              "ODI-RUNS-S                  71.6753     29.4319  2.4353 0.0172       13.0809     130.2696\n",
              "ODI-SR-BL                -1238.6550   1444.1530 -0.8577 0.3937    -4113.7428    1636.4327\n",
              "SR-B                         3.2143    558.6048  0.0058 0.9954    -1108.8825    1115.3110\n",
              "SIXERS                    5418.3522   2089.3047  2.5934 0.0113     1258.8660    9577.8384\n",
              "RUNS-C                     245.0501    324.6178  0.7549 0.4526     -401.2142     891.3144\n",
              "WKTS                     -3489.9125   8020.1340 -0.4351 0.6647   -19456.7728   12476.9477\n",
              "AVE-BL                    1184.2571   3455.1484  0.3428 0.7327    -5694.4149    8062.9291\n",
              "ECON                     -3660.0746  12177.0026 -0.3006 0.7645   -27902.6245   20582.4753\n",
              "SR-B                         3.2143    558.6048  0.0058 0.9954    -1108.8825    1115.3110\n",
              "AGE_2                  -139268.9190 114575.4478 -1.2155 0.2278  -367371.1133   88833.2754\n",
              "AGE_3                  -208178.6457 161731.5283 -1.2872 0.2018  -530161.3847  113804.0933\n",
              "COUNTRY_BAN            -141263.6273 416091.4670 -0.3395 0.7351  -969638.1046  687110.8499\n",
              "COUNTRY_ENG             653121.1138 231038.1442  2.8269 0.0060   193159.5017 1113082.7259\n",
              "COUNTRY_IND              91359.4389 108281.5935  0.8437 0.4014  -124212.6541  306931.5318\n",
              "COUNTRY_NZ               -8600.3199 167982.0439 -0.0512 0.9593  -343026.8795  325826.2398\n",
              "COUNTRY_PAK             -56633.8669 177004.5232 -0.3200 0.7499  -409022.8031  295755.0693\n",
              "COUNTRY_SA              -87621.7485 129420.9684 -0.6770 0.5004  -345279.1041  170035.6070\n",
              "COUNTRY_SL              -85141.3167 158691.3584 -0.5365 0.5931  -401071.5424  230788.9090\n",
              "COUNTRY_WI             -351029.9666 210335.5314 -1.6689 0.0991  -769775.8426   67715.9095\n",
              "COUNTRY_ZIM            -350744.2921 379872.5647 -0.9233 0.3587 -1107012.4740  405523.8898\n",
              "PLAYING ROLE_Batsman    109660.1170 125086.9984  0.8767 0.3834  -139368.9671  358689.2011\n",
              "PLAYING ROLE_Bowler      42476.4132 112475.9197  0.3776 0.7067  -181445.9418  266398.7683\n",
              "PLAYING ROLE_W. Keeper  -42387.1856 177778.1742 -0.2384 0.8122  -396316.3426  311541.9713\n",
              "CAPTAINCY EXP_1         223631.9198 124616.3614  1.7946 0.0766   -24460.1981  471724.0376\n",
              "-----------------------------------------------------------------------------------------\n",
              "Omnibus:                  4.553            Durbin-Watson:               1.774            \n",
              "Prob(Omnibus):            0.103            Jarque-Bera (JB):            3.912            \n",
              "Skew:                     0.441            Prob(JB):                    0.141            \n",
              "Kurtosis:                 3.351            Condition No.:               12462330804275052\n",
              "=========================================================================================\n",
              "* The condition number is large (1e+16). This might indicate             strong\n",
              "multicollinearity or other numerical problems.\n",
              "\"\"\""
            ],
            "text/html": [
              "<table class=\"simpletable\">\n",
              "<tr>\n",
              "        <td>Model:</td>               <td>OLS</td>         <td>Adj. R-squared:</td>      <td>0.361</td>  \n",
              "</tr>\n",
              "<tr>\n",
              "  <td>Dependent Variable:</td>    <td>SOLD PRICE</td>           <td>AIC:</td>          <td>2960.7942</td>\n",
              "</tr>\n",
              "<tr>\n",
              "         <td>Date:</td>        <td>2022-11-02 03:43</td>        <td>BIC:</td>          <td>3029.5483</td>\n",
              "</tr>\n",
              "<tr>\n",
              "   <td>No. Observations:</td>         <td>104</td>         <td>Log-Likelihood:</td>     <td>-1454.4</td> \n",
              "</tr>\n",
              "<tr>\n",
              "       <td>Df Model:</td>             <td>25</td>           <td>F-statistic:</td>        <td>3.325</td>  \n",
              "</tr>\n",
              "<tr>\n",
              "     <td>Df Residuals:</td>           <td>78</td>        <td>Prob (F-statistic):</td>  <td>2.67e-05</td> \n",
              "</tr>\n",
              "<tr>\n",
              "      <td>R-squared:</td>            <td>0.516</td>            <td>Scale:</td>        <td>1.0948e+11</td>\n",
              "</tr>\n",
              "</table>\n",
              "<table class=\"simpletable\">\n",
              "<tr>\n",
              "             <td></td>                <th>Coef.</th>     <th>Std.Err.</th>      <th>t</th>     <th>P>|t|</th>    <th>[0.025</th>        <th>0.975]</th>   \n",
              "</tr>\n",
              "<tr>\n",
              "  <th>const</th>                   <td>339026.7476</td> <td>206996.4590</td> <td>1.6378</td>  <td>0.1055</td>  <td>-73071.5461</td>   <td>751125.0412</td>\n",
              "</tr>\n",
              "<tr>\n",
              "  <th>T-RUNS</th>                   <td>-63.1561</td>     <td>28.1651</td>   <td>-2.2424</td> <td>0.0278</td>   <td>-119.2285</td>      <td>-7.0838</td>  \n",
              "</tr>\n",
              "<tr>\n",
              "  <th>T-WKTS</th>                   <td>444.0119</td>    <td>307.6991</td>   <td>1.4430</td>  <td>0.1530</td>   <td>-168.5700</td>     <td>1056.5938</td> \n",
              "</tr>\n",
              "<tr>\n",
              "  <th>ODI-RUNS-S</th>                <td>71.6753</td>     <td>29.4319</td>   <td>2.4353</td>  <td>0.0172</td>    <td>13.0809</td>      <td>130.2696</td>  \n",
              "</tr>\n",
              "<tr>\n",
              "  <th>ODI-SR-BL</th>               <td>-1238.6550</td>   <td>1444.1530</td>  <td>-0.8577</td> <td>0.3937</td>  <td>-4113.7428</td>     <td>1636.4327</td> \n",
              "</tr>\n",
              "<tr>\n",
              "  <th>SR-B</th>                      <td>3.2143</td>     <td>558.6048</td>   <td>0.0058</td>  <td>0.9954</td>  <td>-1108.8825</td>     <td>1115.3110</td> \n",
              "</tr>\n",
              "<tr>\n",
              "  <th>SIXERS</th>                   <td>5418.3522</td>   <td>2089.3047</td>  <td>2.5934</td>  <td>0.0113</td>   <td>1258.8660</td>     <td>9577.8384</td> \n",
              "</tr>\n",
              "<tr>\n",
              "  <th>RUNS-C</th>                   <td>245.0501</td>    <td>324.6178</td>   <td>0.7549</td>  <td>0.4526</td>   <td>-401.2142</td>     <td>891.3144</td>  \n",
              "</tr>\n",
              "<tr>\n",
              "  <th>WKTS</th>                    <td>-3489.9125</td>   <td>8020.1340</td>  <td>-0.4351</td> <td>0.6647</td>  <td>-19456.7728</td>   <td>12476.9477</td> \n",
              "</tr>\n",
              "<tr>\n",
              "  <th>AVE-BL</th>                   <td>1184.2571</td>   <td>3455.1484</td>  <td>0.3428</td>  <td>0.7327</td>  <td>-5694.4149</td>     <td>8062.9291</td> \n",
              "</tr>\n",
              "<tr>\n",
              "  <th>ECON</th>                    <td>-3660.0746</td>  <td>12177.0026</td>  <td>-0.3006</td> <td>0.7645</td>  <td>-27902.6245</td>   <td>20582.4753</td> \n",
              "</tr>\n",
              "<tr>\n",
              "  <th>SR-B</th>                      <td>3.2143</td>     <td>558.6048</td>   <td>0.0058</td>  <td>0.9954</td>  <td>-1108.8825</td>     <td>1115.3110</td> \n",
              "</tr>\n",
              "<tr>\n",
              "  <th>AGE_2</th>                  <td>-139268.9190</td> <td>114575.4478</td> <td>-1.2155</td> <td>0.2278</td> <td>-367371.1133</td>   <td>88833.2754</td> \n",
              "</tr>\n",
              "<tr>\n",
              "  <th>AGE_3</th>                  <td>-208178.6457</td> <td>161731.5283</td> <td>-1.2872</td> <td>0.2018</td> <td>-530161.3847</td>   <td>113804.0933</td>\n",
              "</tr>\n",
              "<tr>\n",
              "  <th>COUNTRY_BAN</th>            <td>-141263.6273</td> <td>416091.4670</td> <td>-0.3395</td> <td>0.7351</td> <td>-969638.1046</td>   <td>687110.8499</td>\n",
              "</tr>\n",
              "<tr>\n",
              "  <th>COUNTRY_ENG</th>             <td>653121.1138</td> <td>231038.1442</td> <td>2.8269</td>  <td>0.0060</td>  <td>193159.5017</td>  <td>1113082.7259</td>\n",
              "</tr>\n",
              "<tr>\n",
              "  <th>COUNTRY_IND</th>             <td>91359.4389</td>  <td>108281.5935</td> <td>0.8437</td>  <td>0.4014</td> <td>-124212.6541</td>   <td>306931.5318</td>\n",
              "</tr>\n",
              "<tr>\n",
              "  <th>COUNTRY_NZ</th>              <td>-8600.3199</td>  <td>167982.0439</td> <td>-0.0512</td> <td>0.9593</td> <td>-343026.8795</td>   <td>325826.2398</td>\n",
              "</tr>\n",
              "<tr>\n",
              "  <th>COUNTRY_PAK</th>             <td>-56633.8669</td> <td>177004.5232</td> <td>-0.3200</td> <td>0.7499</td> <td>-409022.8031</td>   <td>295755.0693</td>\n",
              "</tr>\n",
              "<tr>\n",
              "  <th>COUNTRY_SA</th>              <td>-87621.7485</td> <td>129420.9684</td> <td>-0.6770</td> <td>0.5004</td> <td>-345279.1041</td>   <td>170035.6070</td>\n",
              "</tr>\n",
              "<tr>\n",
              "  <th>COUNTRY_SL</th>              <td>-85141.3167</td> <td>158691.3584</td> <td>-0.5365</td> <td>0.5931</td> <td>-401071.5424</td>   <td>230788.9090</td>\n",
              "</tr>\n",
              "<tr>\n",
              "  <th>COUNTRY_WI</th>             <td>-351029.9666</td> <td>210335.5314</td> <td>-1.6689</td> <td>0.0991</td> <td>-769775.8426</td>   <td>67715.9095</td> \n",
              "</tr>\n",
              "<tr>\n",
              "  <th>COUNTRY_ZIM</th>            <td>-350744.2921</td> <td>379872.5647</td> <td>-0.9233</td> <td>0.3587</td> <td>-1107012.4740</td>  <td>405523.8898</td>\n",
              "</tr>\n",
              "<tr>\n",
              "  <th>PLAYING ROLE_Batsman</th>    <td>109660.1170</td> <td>125086.9984</td> <td>0.8767</td>  <td>0.3834</td> <td>-139368.9671</td>   <td>358689.2011</td>\n",
              "</tr>\n",
              "<tr>\n",
              "  <th>PLAYING ROLE_Bowler</th>     <td>42476.4132</td>  <td>112475.9197</td> <td>0.3776</td>  <td>0.7067</td> <td>-181445.9418</td>   <td>266398.7683</td>\n",
              "</tr>\n",
              "<tr>\n",
              "  <th>PLAYING ROLE_W. Keeper</th>  <td>-42387.1856</td> <td>177778.1742</td> <td>-0.2384</td> <td>0.8122</td> <td>-396316.3426</td>   <td>311541.9713</td>\n",
              "</tr>\n",
              "<tr>\n",
              "  <th>CAPTAINCY EXP_1</th>         <td>223631.9198</td> <td>124616.3614</td> <td>1.7946</td>  <td>0.0766</td>  <td>-24460.1981</td>   <td>471724.0376</td>\n",
              "</tr>\n",
              "</table>\n",
              "<table class=\"simpletable\">\n",
              "<tr>\n",
              "     <td>Omnibus:</td>    <td>4.553</td>  <td>Durbin-Watson:</td>         <td>1.774</td>      \n",
              "</tr>\n",
              "<tr>\n",
              "  <td>Prob(Omnibus):</td> <td>0.103</td> <td>Jarque-Bera (JB):</td>       <td>3.912</td>      \n",
              "</tr>\n",
              "<tr>\n",
              "       <td>Skew:</td>     <td>0.441</td>     <td>Prob(JB):</td>           <td>0.141</td>      \n",
              "</tr>\n",
              "<tr>\n",
              "     <td>Kurtosis:</td>   <td>3.351</td>  <td>Condition No.:</td>   <td>12462330804275052</td>\n",
              "</tr>\n",
              "</table>"
            ]
          },
          "metadata": {},
          "execution_count": 13
        }
      ]
    },
    {
      "cell_type": "markdown",
      "source": [
        "7.validation this model on the test data.find the re"
      ],
      "metadata": {
        "id": "RVZybwuBfY97"
      }
    },
    {
      "cell_type": "code",
      "source": [
        "from sklearn.metrics import r2_score, mean_squared_error\n",
        "import numpy as np\n",
        "\n",
        "pred_Y=model1.predict(test_X)\n",
        "print(\"the r2_score of model is\", np.abs(r2_score(test_Y,pred_Y)))\n",
        "print(\"the RMSE of the trained model is\" , np.sqrt(mean_squared_error(test_Y,pred_Y)))\n",
        "print(\"the model parameters are\")\n",
        "print(model1.params)"
      ],
      "metadata": {
        "colab": {
          "base_uri": "https://localhost:8080/"
        },
        "id": "_SLXdtFEhsZM",
        "outputId": "ee11fd39-dfbd-4ece-e2e3-d7143288adfb"
      },
      "execution_count": null,
      "outputs": [
        {
          "output_type": "stream",
          "name": "stdout",
          "text": [
            "the r2_score of model is 0.3532913164347159\n",
            "the RMSE of the trained model is 303679.01685382315\n",
            "the model parameters are\n",
            "const                     339026.747563\n",
            "T-RUNS                       -63.156148\n",
            "T-WKTS                       444.011868\n",
            "ODI-RUNS-S                    71.675261\n",
            "ODI-SR-BL                  -1238.655037\n",
            "SR-B                           3.214264\n",
            "SIXERS                      5418.352198\n",
            "RUNS-C                       245.050071\n",
            "WKTS                       -3489.912537\n",
            "AVE-BL                      1184.257127\n",
            "ECON                       -3660.074592\n",
            "SR-B                           3.214264\n",
            "AGE_2                    -139268.918976\n",
            "AGE_3                    -208178.645702\n",
            "COUNTRY_BAN              -141263.627314\n",
            "COUNTRY_ENG               653121.113830\n",
            "COUNTRY_IND                91359.438880\n",
            "COUNTRY_NZ                 -8600.319878\n",
            "COUNTRY_PAK               -56633.866874\n",
            "COUNTRY_SA                -87621.748548\n",
            "COUNTRY_SL                -85141.316716\n",
            "COUNTRY_WI               -351029.966570\n",
            "COUNTRY_ZIM              -350744.292123\n",
            "PLAYING ROLE_Batsman      109660.116979\n",
            "PLAYING ROLE_Bowler        42476.413222\n",
            "PLAYING ROLE_W. Keeper    -42387.185636\n",
            "CAPTAINCY EXP_1           223631.919755\n",
            "dtype: float64\n"
          ]
        }
      ]
    },
    {
      "cell_type": "markdown",
      "source": [
        "8.find the variable which are statistically signifiently influencing the responce time where it infulance if alpha is < (0.05)"
      ],
      "metadata": {
        "id": "LCxBmuivlhEb"
      }
    },
    {
      "cell_type": "code",
      "source": [
        "s=model1.pvalues\n",
        "   #pvalues built in\n",
        "vars=list(s.index)    #s.index returns the varable names of the pandas series\n"
      ],
      "metadata": {
        "id": "6cpBo8Eol9IL"
      },
      "execution_count": null,
      "outputs": []
    },
    {
      "cell_type": "code",
      "source": [
        "pvals=list(s)"
      ],
      "metadata": {
        "id": "hYX8lHg8mcNL"
      },
      "execution_count": null,
      "outputs": []
    },
    {
      "cell_type": "code",
      "source": [
        "#print(pvals)\n",
        "new=[i for i in zip(vars,pvals)]\n",
        "print(\"list of all variables and their pvalues is\",new)\n",
        "important_vars=[i[0] for i in new if i[1] < 0.05]\n",
        "print(\"list of influencing variables is\",important_vars)"
      ],
      "metadata": {
        "colab": {
          "base_uri": "https://localhost:8080/"
        },
        "id": "vfBUTRjrmiAb",
        "outputId": "e344f75c-6d33-4fb0-e3d0-48e15d3efd2a"
      },
      "execution_count": null,
      "outputs": [
        {
          "output_type": "stream",
          "name": "stdout",
          "text": [
            "list of all variables and their pvalues is [('const', 0.1054836300613482), ('T-RUNS', 0.02777833321556694), ('T-WKTS', 0.15302267320163618), ('ODI-RUNS-S', 0.017162171793004943), ('ODI-SR-BL', 0.3936840316123612), ('SR-B', 0.9954236147152467), ('SIXERS', 0.011345629628398692), ('RUNS-C', 0.4525894569844666), ('WKTS', 0.664659639130089), ('AVE-BL', 0.7327074252714914), ('ECON', 0.7645400420488265), ('SR-B', 0.9954236146957804), ('AGE_2', 0.2278335318945471), ('AGE_3', 0.20183587219972693), ('COUNTRY_BAN', 0.7351444922671289), ('COUNTRY_ENG', 0.005968666070606691), ('COUNTRY_IND', 0.40140555660844623), ('COUNTRY_NZ', 0.9592987500469126), ('COUNTRY_PAK', 0.7498562785563648), ('COUNTRY_SA', 0.5003905897028418), ('COUNTRY_SL', 0.5931251940375983), ('COUNTRY_WI', 0.09914564162567419), ('COUNTRY_ZIM', 0.3586874488892784), ('PLAYING ROLE_Batsman', 0.383357529737717), ('PLAYING ROLE_Bowler', 0.7067170798065262), ('PLAYING ROLE_W. Keeper', 0.8121749049057769), ('CAPTAINCY EXP_1', 0.07659770501210895)]\n",
            "list of influencing variables is ['T-RUNS', 'ODI-RUNS-S', 'SIXERS', 'COUNTRY_ENG']\n"
          ]
        }
      ]
    },
    {
      "cell_type": "markdown",
      "source": [
        "9.train new model with these significient variables"
      ],
      "metadata": {
        "id": "8ORRBWzJpur1"
      }
    },
    {
      "cell_type": "code",
      "source": [
        "train_X =train_X[important_vars]\n",
        "model2=sm.OLS(train_Y,train_X).fit()      ##fit is a built in fun,OLS is included for OLS model\n",
        "model2.summary2()"
      ],
      "metadata": {
        "colab": {
          "base_uri": "https://localhost:8080/",
          "height": 365
        },
        "id": "bP_erl1ep5rE",
        "outputId": "d67cf63d-6388-46a8-8a28-64eea53b23e9"
      },
      "execution_count": null,
      "outputs": [
        {
          "output_type": "execute_result",
          "data": {
            "text/plain": [
              "<class 'statsmodels.iolib.summary2.Summary'>\n",
              "\"\"\"\n",
              "                        Results: Ordinary least squares\n",
              "================================================================================\n",
              "Model:                  OLS              Adj. R-squared (uncentered): 0.589     \n",
              "Dependent Variable:     SOLD PRICE       AIC:                         2995.4076 \n",
              "Date:                   2022-11-02 04:46 BIC:                         3005.9852 \n",
              "No. Observations:       104              Log-Likelihood:              -1493.7   \n",
              "Df Model:               4                F-statistic:                 38.23     \n",
              "Df Residuals:           100              Prob (F-statistic):          2.22e-19  \n",
              "R-squared (uncentered): 0.605            Scale:                       1.8184e+11\n",
              "---------------------------------------------------------------------------------\n",
              "                Coef.       Std.Err.      t     P>|t|      [0.025       0.975]   \n",
              "---------------------------------------------------------------------------------\n",
              "T-RUNS          -24.5435      29.9336  -0.8199  0.4142     -83.9309       34.8439\n",
              "ODI-RUNS-S       71.6227      31.0664   2.3055  0.0232       9.9878      133.2577\n",
              "SIXERS        11229.5350    1772.1500   6.3367  0.0000    7713.6397    14745.4302\n",
              "COUNTRY_ENG  842267.7422  250619.1096   3.3607  0.0011  345046.5667  1339488.9176\n",
              "--------------------------------------------------------------------------------\n",
              "Omnibus:                    3.541             Durbin-Watson:               1.272\n",
              "Prob(Omnibus):              0.170             Jarque-Bera (JB):            3.302\n",
              "Skew:                       -0.218            Prob(JB):                    0.192\n",
              "Kurtosis:                   3.757             Condition No.:               30838\n",
              "================================================================================\n",
              "* The condition number is large (3e+04). This might indicate             strong\n",
              "multicollinearity or other numerical problems.\n",
              "\"\"\""
            ],
            "text/html": [
              "<table class=\"simpletable\">\n",
              "<tr>\n",
              "          <td>Model:</td>                 <td>OLS</td>       <td>Adj. R-squared (uncentered):</td>    <td>0.589</td>  \n",
              "</tr>\n",
              "<tr>\n",
              "    <td>Dependent Variable:</td>      <td>SOLD PRICE</td>                <td>AIC:</td>              <td>2995.4076</td>\n",
              "</tr>\n",
              "<tr>\n",
              "           <td>Date:</td>          <td>2022-11-02 04:46</td>             <td>BIC:</td>              <td>3005.9852</td>\n",
              "</tr>\n",
              "<tr>\n",
              "     <td>No. Observations:</td>           <td>104</td>              <td>Log-Likelihood:</td>         <td>-1493.7</td> \n",
              "</tr>\n",
              "<tr>\n",
              "         <td>Df Model:</td>                <td>4</td>                <td>F-statistic:</td>            <td>38.23</td>  \n",
              "</tr>\n",
              "<tr>\n",
              "       <td>Df Residuals:</td>             <td>100</td>            <td>Prob (F-statistic):</td>      <td>2.22e-19</td> \n",
              "</tr>\n",
              "<tr>\n",
              "  <td>R-squared (uncentered):</td>       <td>0.605</td>                 <td>Scale:</td>            <td>1.8184e+11</td>\n",
              "</tr>\n",
              "</table>\n",
              "<table class=\"simpletable\">\n",
              "<tr>\n",
              "       <td></td>          <th>Coef.</th>     <th>Std.Err.</th>      <th>t</th>     <th>P>|t|</th>   <th>[0.025</th>       <th>0.975]</th>   \n",
              "</tr>\n",
              "<tr>\n",
              "  <th>T-RUNS</th>       <td>-24.5435</td>     <td>29.9336</td>   <td>-0.8199</td> <td>0.4142</td>  <td>-83.9309</td>      <td>34.8439</td>  \n",
              "</tr>\n",
              "<tr>\n",
              "  <th>ODI-RUNS-S</th>    <td>71.6227</td>     <td>31.0664</td>   <td>2.3055</td>  <td>0.0232</td>   <td>9.9878</td>      <td>133.2577</td>  \n",
              "</tr>\n",
              "<tr>\n",
              "  <th>SIXERS</th>      <td>11229.5350</td>   <td>1772.1500</td>  <td>6.3367</td>  <td>0.0000</td>  <td>7713.6397</td>   <td>14745.4302</td> \n",
              "</tr>\n",
              "<tr>\n",
              "  <th>COUNTRY_ENG</th> <td>842267.7422</td> <td>250619.1096</td> <td>3.3607</td>  <td>0.0011</td> <td>345046.5667</td> <td>1339488.9176</td>\n",
              "</tr>\n",
              "</table>\n",
              "<table class=\"simpletable\">\n",
              "<tr>\n",
              "     <td>Omnibus:</td>     <td>3.541</td>  <td>Durbin-Watson:</td>   <td>1.272</td>\n",
              "</tr>\n",
              "<tr>\n",
              "  <td>Prob(Omnibus):</td>  <td>0.170</td> <td>Jarque-Bera (JB):</td> <td>3.302</td>\n",
              "</tr>\n",
              "<tr>\n",
              "       <td>Skew:</td>     <td>-0.218</td>     <td>Prob(JB):</td>     <td>0.192</td>\n",
              "</tr>\n",
              "<tr>\n",
              "     <td>Kurtosis:</td>    <td>3.757</td>  <td>Condition No.:</td>   <td>30838</td>\n",
              "</tr>\n",
              "</table>"
            ]
          },
          "metadata": {},
          "execution_count": 22
        }
      ]
    },
    {
      "cell_type": "markdown",
      "source": [
        "10.making validation"
      ],
      "metadata": {
        "id": "Kl4PAbmorSKc"
      }
    },
    {
      "cell_type": "code",
      "source": [
        "new_test_X = test_X[train_X.columns]\n",
        "pred_Y =model2.predict(new_test_X)\n"
      ],
      "metadata": {
        "id": "_fsXCCSmrZxk"
      },
      "execution_count": null,
      "outputs": []
    },
    {
      "cell_type": "markdown",
      "source": [
        "11.find r2 score and rmse of this prediction by model2"
      ],
      "metadata": {
        "id": "FzAgwjmbsB9U"
      }
    },
    {
      "cell_type": "code",
      "source": [
        "from sklearn.metrics import r2_score, mean_squared_error\n",
        "import numpy as np\n",
        "\n",
        "print(\"the r2_score of model is\", np.abs(r2_score(test_Y,pred_Y)))\n",
        "print(\"the RMSE of the trained model is\" , np.sqrt(mean_squared_error(test_Y,pred_Y)))\n",
        "print(\"the model parameters are\")\n",
        "print(model2.params)"
      ],
      "metadata": {
        "colab": {
          "base_uri": "https://localhost:8080/"
        },
        "id": "MwZw4R3ysNlz",
        "outputId": "29929e24-5353-4005-a4aa-55405c164c47"
      },
      "execution_count": null,
      "outputs": [
        {
          "output_type": "stream",
          "name": "stdout",
          "text": [
            "the r2_score of model is 0.44422846300365393\n",
            "the RMSE of the trained model is 453814.5213125207\n",
            "the model parameters are\n",
            "T-RUNS            -24.543529\n",
            "ODI-RUNS-S         71.622731\n",
            "SIXERS          11229.534962\n",
            "COUNTRY_ENG    842267.742153\n",
            "dtype: float64\n"
          ]
        }
      ]
    },
    {
      "cell_type": "markdown",
      "source": [],
      "metadata": {
        "id": "PyQH0H1OdJUX"
      }
    }
  ]
}